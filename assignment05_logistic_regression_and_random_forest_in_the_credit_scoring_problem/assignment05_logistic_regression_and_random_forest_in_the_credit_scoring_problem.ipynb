{
 "cells": [
  {
   "cell_type": "markdown",
   "id": "0f3e7433",
   "metadata": {},
   "source": [
    "\n",
    "# 1. Logistic Regression and Random Forest in the credit scoring problem\n",
    "\n",
    "## 1.1. Credit scoring problem setup\n",
    "\n",
    "### 1.1.1. Problem\n",
    "\n",
    "We will predict whether the customer will repay their credit within 90 days. This is a binary classification problem; we will assign customers into good or bad categories based on our prediction.\n",
    "\n",
    "### 1.1.2. Data description\n",
    "\n",
    "| Feature | Variable Type | Value Type | Description |\n",
    "|:--------|:--------------|:-----------|:------------|\n",
    "| age | Input Feature | integer | Customer age |\n",
    "| DebtRatio | Input Feature | real | Total monthly loan payments (loan, alimony, etc.) / Total monthly income percentage |\n",
    "| NumberOfTime30-59DaysPastDueNotWorse | Input Feature | integer | The number of cases when client has overdue 30-59 days (not worse) on other loans during the last 2 years |\n",
    "| NumberOfTimes90DaysLate | Input Feature | integer | Number of cases when customer had 90+dpd overdue on other credits |\n",
    "| NumberOfTime60-89DaysPastDueNotWorse | Input Feature | integer | Number of cased when customer has 60-89dpd (not worse) during the last 2 years |\n",
    "| NumberOfDependents | Input Feature | integer | The number of customer dependents |\n",
    "| SeriousDlqin2yrs | Target Variable | binary: <br>0 or 1 | Customer hasn't paid the loan debt within 90 days |\n",
    "\n",
    "\n",
    "Let's set up our environment:"
   ]
  },
  {
   "cell_type": "code",
   "execution_count": 42,
   "id": "d128d7fe",
   "metadata": {},
   "outputs": [],
   "source": [
    "# Disable warnings in Anaconda\n",
    "import warnings\n",
    "\n",
    "warnings.filterwarnings(\"ignore\")\n",
    "\n",
    "import numpy as np\n",
    "import pandas as pd\n",
    "\n",
    "%matplotlib inline\n",
    "import matplotlib.pyplot as plt\n",
    "import seaborn as sns\n",
    "\n",
    "sns.set()"
   ]
  },
  {
   "cell_type": "code",
   "execution_count": 43,
   "id": "7e2e2037",
   "metadata": {},
   "outputs": [],
   "source": [
    "from matplotlib import rcParams\n",
    "\n",
    "rcParams[\"figure.figsize\"] = 11, 8"
   ]
  },
  {
   "cell_type": "markdown",
   "id": "07686c49",
   "metadata": {},
   "source": [
    "Let's write the function that will replace *NaN* values with the median for each column."
   ]
  },
  {
   "cell_type": "code",
   "execution_count": 44,
   "id": "f7f95c12",
   "metadata": {},
   "outputs": [],
   "source": [
    "def fill_nan(table):\n",
    "    for col in table.columns:\n",
    "        table[col] = table[col].fillna(table[col].median())\n",
    "    return table"
   ]
  },
  {
   "cell_type": "markdown",
   "id": "0d16def4",
   "metadata": {},
   "source": [
    "Now, let's read the data:"
   ]
  },
  {
   "cell_type": "code",
   "execution_count": 45,
   "id": "7b5bf209",
   "metadata": {},
   "outputs": [],
   "source": [
    "# for Jupyter-book, we copy data from GitHub, locally, to save Internet traffic,\n",
    "DATA_PATH = \"https://raw.githubusercontent.com/Yorko/mlcourse.ai/master/data/\""
   ]
  },
  {
   "cell_type": "code",
   "execution_count": 46,
   "id": "9f1ebb36",
   "metadata": {},
   "outputs": [
    {
     "data": {
      "text/html": [
       "<div>\n",
       "<style scoped>\n",
       "    .dataframe tbody tr th:only-of-type {\n",
       "        vertical-align: middle;\n",
       "    }\n",
       "\n",
       "    .dataframe tbody tr th {\n",
       "        vertical-align: top;\n",
       "    }\n",
       "\n",
       "    .dataframe thead th {\n",
       "        text-align: right;\n",
       "    }\n",
       "</style>\n",
       "<table border=\"1\" class=\"dataframe\">\n",
       "  <thead>\n",
       "    <tr style=\"text-align: right;\">\n",
       "      <th></th>\n",
       "      <th>SeriousDlqin2yrs</th>\n",
       "      <th>age</th>\n",
       "      <th>NumberOfTime30-59DaysPastDueNotWorse</th>\n",
       "      <th>DebtRatio</th>\n",
       "      <th>NumberOfTimes90DaysLate</th>\n",
       "      <th>NumberOfTime60-89DaysPastDueNotWorse</th>\n",
       "      <th>MonthlyIncome</th>\n",
       "      <th>NumberOfDependents</th>\n",
       "    </tr>\n",
       "  </thead>\n",
       "  <tbody>\n",
       "    <tr>\n",
       "      <th>0</th>\n",
       "      <td>0</td>\n",
       "      <td>64</td>\n",
       "      <td>0</td>\n",
       "      <td>0.249908</td>\n",
       "      <td>0</td>\n",
       "      <td>0</td>\n",
       "      <td>8158.0</td>\n",
       "      <td>0.0</td>\n",
       "    </tr>\n",
       "    <tr>\n",
       "      <th>1</th>\n",
       "      <td>0</td>\n",
       "      <td>58</td>\n",
       "      <td>0</td>\n",
       "      <td>3870.000000</td>\n",
       "      <td>0</td>\n",
       "      <td>0</td>\n",
       "      <td>NaN</td>\n",
       "      <td>0.0</td>\n",
       "    </tr>\n",
       "    <tr>\n",
       "      <th>2</th>\n",
       "      <td>0</td>\n",
       "      <td>41</td>\n",
       "      <td>0</td>\n",
       "      <td>0.456127</td>\n",
       "      <td>0</td>\n",
       "      <td>0</td>\n",
       "      <td>6666.0</td>\n",
       "      <td>0.0</td>\n",
       "    </tr>\n",
       "    <tr>\n",
       "      <th>3</th>\n",
       "      <td>0</td>\n",
       "      <td>43</td>\n",
       "      <td>0</td>\n",
       "      <td>0.000190</td>\n",
       "      <td>0</td>\n",
       "      <td>0</td>\n",
       "      <td>10500.0</td>\n",
       "      <td>2.0</td>\n",
       "    </tr>\n",
       "    <tr>\n",
       "      <th>4</th>\n",
       "      <td>1</td>\n",
       "      <td>49</td>\n",
       "      <td>0</td>\n",
       "      <td>0.271820</td>\n",
       "      <td>0</td>\n",
       "      <td>0</td>\n",
       "      <td>400.0</td>\n",
       "      <td>0.0</td>\n",
       "    </tr>\n",
       "  </tbody>\n",
       "</table>\n",
       "</div>"
      ],
      "text/plain": [
       "   SeriousDlqin2yrs  age  NumberOfTime30-59DaysPastDueNotWorse    DebtRatio  \\\n",
       "0                 0   64                                     0     0.249908   \n",
       "1                 0   58                                     0  3870.000000   \n",
       "2                 0   41                                     0     0.456127   \n",
       "3                 0   43                                     0     0.000190   \n",
       "4                 1   49                                     0     0.271820   \n",
       "\n",
       "   NumberOfTimes90DaysLate  NumberOfTime60-89DaysPastDueNotWorse  \\\n",
       "0                        0                                     0   \n",
       "1                        0                                     0   \n",
       "2                        0                                     0   \n",
       "3                        0                                     0   \n",
       "4                        0                                     0   \n",
       "\n",
       "   MonthlyIncome  NumberOfDependents  \n",
       "0         8158.0                 0.0  \n",
       "1            NaN                 0.0  \n",
       "2         6666.0                 0.0  \n",
       "3        10500.0                 2.0  \n",
       "4          400.0                 0.0  "
      ]
     },
     "execution_count": 46,
     "metadata": {},
     "output_type": "execute_result"
    }
   ],
   "source": [
    "data = pd.read_csv(DATA_PATH + \"credit_scoring_sample.csv\", sep=\";\")\n",
    "data.head()"
   ]
  },
  {
   "cell_type": "markdown",
   "id": "9f5ec6f9",
   "metadata": {},
   "source": [
    "Let's look at the variable types:"
   ]
  },
  {
   "cell_type": "code",
   "execution_count": 47,
   "id": "5b5d33d8",
   "metadata": {},
   "outputs": [
    {
     "data": {
      "text/plain": [
       "SeriousDlqin2yrs                          int64\n",
       "age                                       int64\n",
       "NumberOfTime30-59DaysPastDueNotWorse      int64\n",
       "DebtRatio                               float64\n",
       "NumberOfTimes90DaysLate                   int64\n",
       "NumberOfTime60-89DaysPastDueNotWorse      int64\n",
       "MonthlyIncome                           float64\n",
       "NumberOfDependents                      float64\n",
       "dtype: object"
      ]
     },
     "execution_count": 47,
     "metadata": {},
     "output_type": "execute_result"
    }
   ],
   "source": [
    "data.dtypes"
   ]
  },
  {
   "cell_type": "markdown",
   "id": "9bc7b485",
   "metadata": {},
   "source": [
    "Let's check the class balance:"
   ]
  },
  {
   "cell_type": "code",
   "execution_count": 48,
   "id": "19cc3c4f",
   "metadata": {},
   "outputs": [
    {
     "name": "stdout",
     "output_type": "stream",
     "text": [
      "Distribution of the target:\n"
     ]
    },
    {
     "data": {
      "text/plain": [
       "0    0.777511\n",
       "1    0.222489\n",
       "Name: SeriousDlqin2yrs, dtype: float64"
      ]
     },
     "execution_count": 48,
     "metadata": {},
     "output_type": "execute_result"
    },
    {
     "data": {
      "image/png": "[encoded data removed]",
      "text/plain": [
       "<Figure size 1100x800 with 1 Axes>"
      ]
     },
     "metadata": {},
     "output_type": "display_data"
    }
   ],
   "source": [
    "ax = data[\"SeriousDlqin2yrs\"].hist(orientation=\"horizontal\", color=\"red\")\n",
    "ax.set_xlabel(\"number_of_observations\")\n",
    "ax.set_ylabel(\"unique_value\")\n",
    "ax.set_title(\"Target distribution\")\n",
    "\n",
    "print(\"Distribution of the target:\")\n",
    "data[\"SeriousDlqin2yrs\"].value_counts() / data.shape[0]"
   ]
  },
  {
   "cell_type": "markdown",
   "id": "b7f9f48c",
   "metadata": {},
   "source": [
    "SLet's separate the input variable names by excluding the target:"
   ]
  },
  {
   "cell_type": "code",
   "execution_count": 49,
   "id": "9c12ef80",
   "metadata": {},
   "outputs": [
    {
     "data": {
      "text/plain": [
       "['age',\n",
       " 'NumberOfTime30-59DaysPastDueNotWorse',\n",
       " 'DebtRatio',\n",
       " 'NumberOfTimes90DaysLate',\n",
       " 'NumberOfTime60-89DaysPastDueNotWorse',\n",
       " 'MonthlyIncome',\n",
       " 'NumberOfDependents']"
      ]
     },
     "execution_count": 49,
     "metadata": {},
     "output_type": "execute_result"
    }
   ],
   "source": [
    "independent_columns_names = [x for x in data if x != \"SeriousDlqin2yrs\"]\n",
    "independent_columns_names"
   ]
  },
  {
   "cell_type": "markdown",
   "id": "d2901d71",
   "metadata": {},
   "source": [
    "Let's use the function to replace *NaN* values:"
   ]
  },
  {
   "cell_type": "code",
   "execution_count": 50,
   "id": "5348fe27",
   "metadata": {},
   "outputs": [],
   "source": [
    "table = fill_nan(data)"
   ]
  },
  {
   "cell_type": "markdown",
   "id": "65d3d30d",
   "metadata": {},
   "source": [
    "Let's separate the target variable and input features:"
   ]
  },
  {
   "cell_type": "code",
   "execution_count": 51,
   "id": "52c90b42",
   "metadata": {},
   "outputs": [],
   "source": [
    "X = table[independent_columns_names]\n",
    "y = table[\"SeriousDlqin2yrs\"]"
   ]
  },
  {
   "cell_type": "markdown",
   "id": "5822f907",
   "metadata": {},
   "source": [
    "## 1.2. Bootstrapping\n",
    "\n",
    "We will make an interval estimate of the average age for the customers who delayed repayment at the 90% confidence level. We use the example from the article as reference, if needed. We also use `np.random.seed(0)` as before. Will we find the resulting interval estimate.\n"
   ]
  },
  {
   "cell_type": "code",
   "execution_count": 52,
   "id": "fe72ecd3",
   "metadata": {
    "scrolled": true
   },
   "outputs": [
    {
     "name": "stdout",
     "output_type": "stream",
     "text": [
      "average age for the customers who delayed repayment [45.71379414 46.12700479]\n",
      "average age for the customers who do not delayed repayment [52.59470132 52.85480064]\n"
     ]
    }
   ],
   "source": [
    "def get_bootstrap_sample(data, n_samples):\n",
    "    indices = np.random.randint(0, len(data), (n_samples, len(data)))\n",
    "    samples = data[indices]\n",
    "    return samples\n",
    "\n",
    "def stat_intervals(stat, alpha):\n",
    "    boundaries = np.percentile(stat, [100 * alpha / 2.0, 100 * (1 -alpha / 2.0)])\n",
    "    return boundaries\n",
    "\n",
    "problem_client = data.loc[\n",
    "    data['SeriousDlqin2yrs'] == 1, 'age'\n",
    "].values\n",
    "\n",
    "good_client = data.loc[\n",
    "    data['SeriousDlqin2yrs'] == 0, 'age'\n",
    "].values\n",
    "\n",
    "np.random.seed(0)\n",
    "\n",
    "problem_mean_age = [\n",
    "    np.mean(sample) for sample in get_bootstrap_sample(problem_client, 1000)\n",
    "]\n",
    "\n",
    "good_mean_age = [\n",
    "    np.mean(sample) for sample in get_bootstrap_sample(good_client, 1000)\n",
    "]\n",
    "\n",
    "print('average age for the customers who delayed repayment', stat_intervals(problem_mean_age, 0.1))\n",
    "print('average age for the customers who do not delayed repayment', stat_intervals(good_mean_age, 0.1))"
   ]
  },
  {
   "cell_type": "markdown",
   "id": "91a92198",
   "metadata": {},
   "source": [
    "## 1.3. Logistic regression\n",
    "\n",
    "Let's set up to use logistic regression:"
   ]
  },
  {
   "cell_type": "code",
   "execution_count": 53,
   "id": "e887283c",
   "metadata": {},
   "outputs": [],
   "source": [
    "from sklearn.linear_model import LogisticRegression\n",
    "from sklearn.model_selection import GridSearchCV, StratifiedKFold"
   ]
  },
  {
   "cell_type": "markdown",
   "id": "cbce4ca8",
   "metadata": {},
   "source": [
    "Now, we will create a `LogisticRegression` model and use `class_weight='balanced'` to make up for our unbalanced classes."
   ]
  },
  {
   "cell_type": "code",
   "execution_count": 62,
   "id": "d3c07913",
   "metadata": {},
   "outputs": [],
   "source": [
    "lr = LogisticRegression(random_state=5, class_weight=\"balanced\")"
   ]
  },
  {
   "cell_type": "markdown",
   "id": "06cc6215",
   "metadata": {},
   "source": [
    "Let's try to find the best regularization coefficient, which is the coefficient `C` for logistic regression. Then, we will have an optimal model that is not overfit and is a good predictor of the target variable."
   ]
  },
  {
   "cell_type": "code",
   "execution_count": 63,
   "id": "07f148e8",
   "metadata": {},
   "outputs": [],
   "source": [
    "parameters = {\"C\": (0.0001, 0.001, 0.01, 0.1, 1, 10)}"
   ]
  },
  {
   "cell_type": "markdown",
   "id": "8d57cbbc",
   "metadata": {},
   "source": [
    "In order to find the optimal value of `C`, let's apply stratified 5-fold validation and look at the *ROC AUC* against different values of the parameter `C`. Use the `StratifiedKFold` function for this:"
   ]
  },
  {
   "cell_type": "code",
   "execution_count": 64,
   "id": "69e63cb9",
   "metadata": {},
   "outputs": [],
   "source": [
    "skf = StratifiedKFold(n_splits=5, shuffle=True, random_state=5)"
   ]
  },
  {
   "cell_type": "markdown",
   "id": "38431b3b",
   "metadata": {},
   "source": [
    "One of the important metrics of model quality is the *Area Under the Curve (AUC)*. *ROC AUC* varies from 0 to 1. The closer ROC AUC is to 1, the better the quality of the classification model.\n",
    "\n",
    "Let's perform a *Grid Search* with the scoring metric \"roc_auc\" for the parameter `C`. Let's determine which value of the parameter `C` is optimal.\n"
   ]
  },
  {
   "cell_type": "code",
   "execution_count": 68,
   "id": "3a02b91e",
   "metadata": {},
   "outputs": [
    {
     "data": {
      "text/plain": [
       "{'C': 0.001}"
      ]
     },
     "execution_count": 68,
     "metadata": {},
     "output_type": "execute_result"
    }
   ],
   "source": [
    "grid_logit = GridSearchCV(\n",
    "    lr,\n",
    "    param_grid = parameters,\n",
    "    cv = skf,\n",
    "    n_jobs = -1,\n",
    "    scoring = 'roc_auc'\n",
    ")\n",
    "grid_logit.fit(X, y)\n",
    "\n",
    "grid_logit.best_params_"
   ]
  },
  {
   "cell_type": "markdown",
   "id": "10e72ab2",
   "metadata": {},
   "source": [
    "**Question 4.** Can we consider the best model stable? The model is *stable* if the standard deviation on validation is less than 0.5%. Save the *ROC AUC* value of the best model; it will be useful for the following tasks.\n"
   ]
  },
  {
   "cell_type": "code",
   "execution_count": 71,
   "id": "708c781a",
   "metadata": {},
   "outputs": [
    {
     "data": {
      "text/plain": [
       "0.008137559189742445"
      ]
     },
     "execution_count": 71,
     "metadata": {},
     "output_type": "execute_result"
    }
   ],
   "source": [
    "grid_logit.cv_results_[\"std_test_score\"][1]"
   ]
  },
  {
   "cell_type": "markdown",
   "id": "c474c26a",
   "metadata": {},
   "source": [
    "The ROC AUC value of the best model:"
   ]
  },
  {
   "cell_type": "code",
   "execution_count": 69,
   "id": "0e1adb69",
   "metadata": {},
   "outputs": [
    {
     "data": {
      "text/plain": [
       "0.8089120626797153"
      ]
     },
     "execution_count": 69,
     "metadata": {},
     "output_type": "execute_result"
    }
   ],
   "source": [
    "grid_logit.best_score_"
   ]
  },
  {
   "cell_type": "markdown",
   "id": "ca213472",
   "metadata": {},
   "source": [
    "## 1.4. Feature importance\n",
    "\n",
    "*Feature importance* is defined by the absolute value of its corresponding coefficient. First, we need to normalize all of the feature values so that it will be valid to compare them. Let's determine which the most important feature for the best logistic regression model.\n"
   ]
  },
  {
   "cell_type": "code",
   "execution_count": 78,
   "id": "3b38ff5f",
   "metadata": {},
   "outputs": [
    {
     "data": {
      "text/html": [
       "<div>\n",
       "<style scoped>\n",
       "    .dataframe tbody tr th:only-of-type {\n",
       "        vertical-align: middle;\n",
       "    }\n",
       "\n",
       "    .dataframe tbody tr th {\n",
       "        vertical-align: top;\n",
       "    }\n",
       "\n",
       "    .dataframe thead th {\n",
       "        text-align: right;\n",
       "    }\n",
       "</style>\n",
       "<table border=\"1\" class=\"dataframe\">\n",
       "  <thead>\n",
       "    <tr style=\"text-align: right;\">\n",
       "      <th></th>\n",
       "      <th>feat</th>\n",
       "      <th>coef</th>\n",
       "    </tr>\n",
       "  </thead>\n",
       "  <tbody>\n",
       "    <tr>\n",
       "      <th>1</th>\n",
       "      <td>NumberOfTime30-59DaysPastDueNotWorse</td>\n",
       "      <td>0.723427</td>\n",
       "    </tr>\n",
       "    <tr>\n",
       "      <th>3</th>\n",
       "      <td>NumberOfTimes90DaysLate</td>\n",
       "      <td>0.516788</td>\n",
       "    </tr>\n",
       "    <tr>\n",
       "      <th>4</th>\n",
       "      <td>NumberOfTime60-89DaysPastDueNotWorse</td>\n",
       "      <td>0.193558</td>\n",
       "    </tr>\n",
       "    <tr>\n",
       "      <th>6</th>\n",
       "      <td>NumberOfDependents</td>\n",
       "      <td>0.101443</td>\n",
       "    </tr>\n",
       "    <tr>\n",
       "      <th>2</th>\n",
       "      <td>DebtRatio</td>\n",
       "      <td>-0.024096</td>\n",
       "    </tr>\n",
       "    <tr>\n",
       "      <th>5</th>\n",
       "      <td>MonthlyIncome</td>\n",
       "      <td>-0.163146</td>\n",
       "    </tr>\n",
       "    <tr>\n",
       "      <th>0</th>\n",
       "      <td>age</td>\n",
       "      <td>-0.416702</td>\n",
       "    </tr>\n",
       "  </tbody>\n",
       "</table>\n",
       "</div>"
      ],
      "text/plain": [
       "                                   feat      coef\n",
       "1  NumberOfTime30-59DaysPastDueNotWorse  0.723427\n",
       "3               NumberOfTimes90DaysLate  0.516788\n",
       "4  NumberOfTime60-89DaysPastDueNotWorse  0.193558\n",
       "6                    NumberOfDependents  0.101443\n",
       "2                             DebtRatio -0.024096\n",
       "5                         MonthlyIncome -0.163146\n",
       "0                                   age -0.416702"
      ]
     },
     "execution_count": 78,
     "metadata": {},
     "output_type": "execute_result"
    }
   ],
   "source": [
    "from sklearn.preprocessing import StandardScaler\n",
    "\n",
    "lr = LogisticRegression(C = 0.001, random_state = 5, class_weight = 'balanced')\n",
    "scal = StandardScaler()\n",
    "lr.fit(scal.fit_transform(X), y)\n",
    "\n",
    "pd.DataFrame(\n",
    "    {'feat': independent_columns_names, 'coef': lr.coef_.flatten().tolist()}\n",
    ").sort_values(by = 'coef', ascending = False)"
   ]
  },
  {
   "cell_type": "markdown",
   "id": "790973da",
   "metadata": {},
   "source": [
    "Let's calculate how much `DebtRatio` affects our prediction using the [softmax function](https://en.wikipedia.org/wiki/Softmax_function). Let's find out what its value.\n"
   ]
  },
  {
   "cell_type": "code",
   "execution_count": 82,
   "id": "1a7cc1e3",
   "metadata": {},
   "outputs": [
    {
     "name": "stdout",
     "output_type": "stream",
     "text": [
      "0.1142637528306527\n"
     ]
    }
   ],
   "source": [
    "print((np.exp(lr.coef_[0]) / np.sum(np.exp(lr.coef_[0])))[2])"
   ]
  },
  {
   "cell_type": "markdown",
   "id": "b6ff0a0b",
   "metadata": {},
   "source": [
    "Let's see how we can interpret the impact of our features. To do this, we recalculate the logistic regression with absolute values, that is without scaling. Then we will change the customer's age by adding 20 years, keeping the other features unchanged. Let's determine how many times will the chance that the customer will not repay their debt increase.\n"
   ]
  },
  {
   "cell_type": "code",
   "execution_count": 84,
   "id": "bca60af2",
   "metadata": {},
   "outputs": [
    {
     "data": {
      "text/html": [
       "<div>\n",
       "<style scoped>\n",
       "    .dataframe tbody tr th:only-of-type {\n",
       "        vertical-align: middle;\n",
       "    }\n",
       "\n",
       "    .dataframe tbody tr th {\n",
       "        vertical-align: top;\n",
       "    }\n",
       "\n",
       "    .dataframe thead th {\n",
       "        text-align: right;\n",
       "    }\n",
       "</style>\n",
       "<table border=\"1\" class=\"dataframe\">\n",
       "  <thead>\n",
       "    <tr style=\"text-align: right;\">\n",
       "      <th></th>\n",
       "      <th>feat</th>\n",
       "      <th>coef</th>\n",
       "    </tr>\n",
       "  </thead>\n",
       "  <tbody>\n",
       "    <tr>\n",
       "      <th>1</th>\n",
       "      <td>NumberOfTime30-59DaysPastDueNotWorse</td>\n",
       "      <td>0.459534</td>\n",
       "    </tr>\n",
       "    <tr>\n",
       "      <th>3</th>\n",
       "      <td>NumberOfTimes90DaysLate</td>\n",
       "      <td>0.403877</td>\n",
       "    </tr>\n",
       "    <tr>\n",
       "      <th>4</th>\n",
       "      <td>NumberOfTime60-89DaysPastDueNotWorse</td>\n",
       "      <td>0.236468</td>\n",
       "    </tr>\n",
       "    <tr>\n",
       "      <th>6</th>\n",
       "      <td>NumberOfDependents</td>\n",
       "      <td>0.163540</td>\n",
       "    </tr>\n",
       "    <tr>\n",
       "      <th>2</th>\n",
       "      <td>DebtRatio</td>\n",
       "      <td>-0.000004</td>\n",
       "    </tr>\n",
       "    <tr>\n",
       "      <th>5</th>\n",
       "      <td>MonthlyIncome</td>\n",
       "      <td>-0.000011</td>\n",
       "    </tr>\n",
       "    <tr>\n",
       "      <th>0</th>\n",
       "      <td>age</td>\n",
       "      <td>-0.013189</td>\n",
       "    </tr>\n",
       "  </tbody>\n",
       "</table>\n",
       "</div>"
      ],
      "text/plain": [
       "                                   feat      coef\n",
       "1  NumberOfTime30-59DaysPastDueNotWorse  0.459534\n",
       "3               NumberOfTimes90DaysLate  0.403877\n",
       "4  NumberOfTime60-89DaysPastDueNotWorse  0.236468\n",
       "6                    NumberOfDependents  0.163540\n",
       "2                             DebtRatio -0.000004\n",
       "5                         MonthlyIncome -0.000011\n",
       "0                                   age -0.013189"
      ]
     },
     "execution_count": 84,
     "metadata": {},
     "output_type": "execute_result"
    }
   ],
   "source": [
    "lr = LogisticRegression(C = 0.001, random_state = 5, class_weight = 'balanced')\n",
    "lr.fit(X, y)\n",
    "\n",
    "pd.DataFrame(\n",
    "    {'feat': independent_columns_names, 'coef': lr.coef_.flatten().tolist()}\n",
    ").sort_values(by='coef', ascending = False)"
   ]
  },
  {
   "cell_type": "code",
   "execution_count": 85,
   "id": "d6918820",
   "metadata": {},
   "outputs": [
    {
     "data": {
      "text/plain": [
       "0.7681480343643818"
      ]
     },
     "execution_count": 85,
     "metadata": {},
     "output_type": "execute_result"
    }
   ],
   "source": [
    "np.exp(lr.coef_[0][0] * 20)"
   ]
  },
  {
   "cell_type": "markdown",
   "id": "75fe2b5b",
   "metadata": {},
   "source": [
    "## 1.5. Random Forest\n",
    "\n",
    "Importing the Random Forest classifier:"
   ]
  },
  {
   "cell_type": "code",
   "execution_count": 86,
   "id": "72b5edea",
   "metadata": {},
   "outputs": [],
   "source": [
    "from sklearn.ensemble import RandomForestClassifier"
   ]
  },
  {
   "cell_type": "markdown",
   "id": "5da0502f",
   "metadata": {},
   "source": [
    "Initialize Random Forest with 100 trees and balance target classes:"
   ]
  },
  {
   "cell_type": "code",
   "execution_count": 87,
   "id": "5ea860f8",
   "metadata": {},
   "outputs": [],
   "source": [
    "rf = RandomForestClassifier(\n",
    "    n_estimators=100, n_jobs=-1, random_state=42, class_weight=\"balanced\"\n",
    ")"
   ]
  },
  {
   "cell_type": "markdown",
   "id": "22f55639",
   "metadata": {},
   "source": [
    "We will search for the best parameters among the following values:"
   ]
  },
  {
   "cell_type": "code",
   "execution_count": 88,
   "id": "1c4973a1",
   "metadata": {},
   "outputs": [],
   "source": [
    "parameters = {\n",
    "    \"max_features\": [1, 2, 4],\n",
    "    \"min_samples_leaf\": [3, 5, 7, 9],\n",
    "    \"max_depth\": [5, 10, 15],\n",
    "}"
   ]
  },
  {
   "cell_type": "markdown",
   "id": "82c49e83",
   "metadata": {},
   "source": [
    "Also, we will use the stratified k-fold validation again. We should still have the `skf` variable.\n",
    "\n",
    "Let's see how much higher is the *ROC AUC* of the best random forest model than that of the best logistic regression on validation.\n"
   ]
  },
  {
   "cell_type": "code",
   "execution_count": 89,
   "id": "1442f327",
   "metadata": {},
   "outputs": [
    {
     "data": {
      "text/plain": [
       "{'max_depth': 10, 'max_features': 2, 'min_samples_leaf': 9}"
      ]
     },
     "execution_count": 89,
     "metadata": {},
     "output_type": "execute_result"
    }
   ],
   "source": [
    "grid_forest = GridSearchCV(\n",
    "    rf,\n",
    "    param_grid = parameters,\n",
    "    cv = skf,\n",
    "    n_jobs = -1,\n",
    "    scoring = 'roc_auc'\n",
    ")\n",
    "grid_forest.fit(X, y)\n",
    "\n",
    "grid_forest.best_params_"
   ]
  },
  {
   "cell_type": "code",
   "execution_count": 90,
   "id": "d8c88b0c",
   "metadata": {},
   "outputs": [
    {
     "data": {
      "text/plain": [
       "0.8357785451032532"
      ]
     },
     "execution_count": 90,
     "metadata": {},
     "output_type": "execute_result"
    }
   ],
   "source": [
    "grid_forest.best_score_"
   ]
  },
  {
   "cell_type": "markdown",
   "id": "741ff8c1",
   "metadata": {},
   "source": [
    "Let's find which feature has the weakest impact in the Random Forest model.\n"
   ]
  },
  {
   "cell_type": "code",
   "execution_count": 93,
   "id": "9e7f2e82",
   "metadata": {},
   "outputs": [],
   "source": [
    "grid_forest = GridSearchCV(\n",
    "    rf,\n",
    "    param_grid = {'max_depth': [10], 'max_features': [2], 'min_samples_leaf': [9]},\n",
    "    cv = skf,\n",
    "    n_jobs = -1,\n",
    "    scoring = 'roc_auc'\n",
    ")\n",
    "perem_forest = grid_forest.fit(X, y)"
   ]
  },
  {
   "cell_type": "code",
   "execution_count": 94,
   "id": "5db5a731",
   "metadata": {},
   "outputs": [
    {
     "name": "stdout",
     "output_type": "stream",
     "text": [
      "Feature ranking:\n",
      "1. NumberOfTime30-59DaysPastDueNotWorse 0.300290 \n",
      "2. NumberOfTimes90DaysLate 0.278749 \n",
      "3. NumberOfTime60-89DaysPastDueNotWorse 0.156534 \n",
      "4. age 0.115860 \n",
      "5. DebtRatio 0.076082 \n",
      "6. MonthlyIncome 0.057994 \n",
      "7. NumberOfDependents 0.014491 \n"
     ]
    },
    {
     "data": {
      "image/png": "[encoded data removed]",
      "text/plain": [
       "<Figure size 1500x500 with 1 Axes>"
      ]
     },
     "metadata": {},
     "output_type": "display_data"
    }
   ],
   "source": [
    "features = {\n",
    "    \"f1\": u\"age\",\n",
    "    \"f2\": u\"NumberOfTime30-59DaysPastDueNotWorse\",\n",
    "    \"f3\": u\"DebtRatio\",\n",
    "    \"f4\": u\"NumberOfTimes90DaysLate\",\n",
    "    \"f5\": u\"NumberOfTime60-89DaysPastDueNotWorse\",\n",
    "    \"f6\": u\"MonthlyIncome\",\n",
    "    \"f7\": u\"NumberOfDependents\",\n",
    "}\n",
    "\n",
    "\n",
    "importances = perem_forest.best_estimator_.feature_importances_\n",
    "\n",
    "indices = np.argsort(importances)[::-1]\n",
    "# Plot the feature importancies of the forest\n",
    "num_to_plot = 7\n",
    "feature_indices = [ind + 1 for ind in indices[:num_to_plot]]\n",
    "\n",
    "# Print the feature ranking\n",
    "print(\"Feature ranking:\")\n",
    "\n",
    "for f in range(num_to_plot):\n",
    "    print(\n",
    "        \"%d. %s %f \"\n",
    "        % (f + 1, features[\"f\" + str(feature_indices[f])], importances[indices[f]])\n",
    "    )\n",
    "plt.figure(figsize=(15, 5))\n",
    "plt.title(u\"Feature Importance\")\n",
    "bars = plt.bar(\n",
    "    range(num_to_plot),\n",
    "    importances[indices[:num_to_plot]],\n",
    "    color=([str(i / float(num_to_plot + 1)) for i in range(num_to_plot)]),\n",
    "    align=\"center\",\n",
    ")\n",
    "ticks = plt.xticks(range(num_to_plot), feature_indices)\n",
    "plt.xlim([-1, num_to_plot])\n",
    "plt.legend(bars, [u\"\".join(features[\"f\" + str(i)]) for i in feature_indices]);"
   ]
  },
  {
   "cell_type": "markdown",
   "id": "b13d798d",
   "metadata": {},
   "source": [
    "The weakest influence has: NumberOfDependents"
   ]
  },
  {
   "cell_type": "markdown",
   "id": "15546e64",
   "metadata": {},
   "source": [
    "The most significant advantage of using logistic regression compared to a random forest for this task is the interpretability of the function.\n",
    "\n",
    "On the one hand, the random forest model is better suited for our creditworthiness assessment task. Its performance is 4% higher. The reason for this result is a small number of features and the compositional property of random forests.\n",
    "\n",
    "On the other hand, the main advantage of logistic regression is that we can interpret the effect of the function on the model result.\n",
    "\n",
    "## 1.6. Bagging\n",
    "\n",
    "Import modules and set up the parameters for bagging:"
   ]
  },
  {
   "cell_type": "code",
   "execution_count": 104,
   "id": "966727a4",
   "metadata": {},
   "outputs": [],
   "source": [
    "from sklearn.ensemble import BaggingClassifier\n",
    "from sklearn.model_selection import RandomizedSearchCV, cross_val_score\n",
    "\n",
    "parameters = {\n",
    "    \"max_features\": [2, 3, 4],\n",
    "    \"max_samples\": [0.5, 0.7, 0.9],\n",
    "    \n",
    "}"
   ]
  },
  {
   "cell_type": "markdown",
   "id": "8015b7b2",
   "metadata": {},
   "source": [
    "Let's compare a bagging classifier with `random_state=42`. For the base classifiers, use 100 logistic regressors and use `RandomizedSearchCV` instead of `GridSearchCV`. It will take a lot of time to iterate over all 54 variants, so set the maximum number of iterations for `RandomizedSearchCV` to 20. Don't forget to set the parameters `cv` and `random_state=1`.\n",
    "\n",
    "Will we find the best *ROC AUC* that we have achieved.\n"
   ]
  },
  {
   "cell_type": "code",
   "execution_count": 105,
   "id": "6895b2d9",
   "metadata": {},
   "outputs": [
    {
     "name": "stdout",
     "output_type": "stream",
     "text": [
      "Fitting 5 folds for each of 9 candidates, totalling 45 fits\n"
     ]
    }
   ],
   "source": [
    "bg = BaggingClassifier(\n",
    "    LogisticRegression(class_weight = \"balanced\"),\n",
    "    n_estimators = 100,\n",
    "    n_jobs = -1,\n",
    "    random_state = 42,\n",
    ")\n",
    "r_grid_search = RandomizedSearchCV(\n",
    "    bg,\n",
    "    parameters,\n",
    "    n_jobs = -1,\n",
    "    scoring = \"roc_auc\",\n",
    "    cv = skf,\n",
    "    n_iter = 20,\n",
    "    random_state = 1,\n",
    "    verbose = True,\n",
    ")\n",
    "r_grid_search = r_grid_search.fit(X, y)"
   ]
  },
  {
   "cell_type": "code",
   "execution_count": 106,
   "id": "067b9291",
   "metadata": {},
   "outputs": [
    {
     "data": {
      "text/plain": [
       "0.8087745786752851"
      ]
     },
     "execution_count": 106,
     "metadata": {},
     "output_type": "execute_result"
    }
   ],
   "source": [
    "r_grid_search.best_score_"
   ]
  },
  {
   "cell_type": "markdown",
   "id": "f7fff3d2",
   "metadata": {},
   "source": [
    "Let's give an interpretation of the best parameters for bagging. Why are these values of `max_features` and `max_samples` the best?\n",
    "\n",
    "The advantage of Random Forest is that the trees in the composition are not highly correlated. Similarly, for bagging with logistic regression, the weaker correlation between single models, the higher the accuracy. Since in logistic regression there is almost no randomness, we have to change the set of features to minimize the correlation between our single models."
   ]
  }
 ],
 "metadata": {
  "jupytext": {
   "formats": "md:myst",
   "text_representation": {
    "extension": ".md",
    "format_name": "myst"
   }
  },
  "kernelspec": {
   "display_name": "Python 3 (ipykernel)",
   "language": "python",
   "name": "python3"
  },
  "language_info": {
   "codemirror_mode": {
    "name": "ipython",
    "version": 3
   },
   "file_extension": ".py",
   "mimetype": "text/x-python",
   "name": "python",
   "nbconvert_exporter": "python",
   "pygments_lexer": "ipython3",
   "version": "3.10.9"
  },
  "source_map": [
   11,
   62,
   79,
   83,
   88,
   93,
   98,
   106,
   109,
   114,
   116,
   121,
   129,
   134,
   137,
   142,
   144,
   149,
   152,
   164,
   166,
   173,
   176,
   181,
   183,
   188,
   190,
   195,
   197,
   211,
   213,
   221,
   223,
   238,
   240,
   250,
   252,
   262,
   264,
   271,
   273,
   278,
   282,
   287,
   293,
   305,
   307,
   320,
   322,
   336,
   345,
   355,
   357
  ],
  "toc": {
   "base_numbering": 1,
   "nav_menu": {},
   "number_sections": true,
   "sideBar": true,
   "skip_h1_title": false,
   "title_cell": "Table of Contents",
   "title_sidebar": "Contents",
   "toc_cell": false,
   "toc_position": {},
   "toc_section_display": true,
   "toc_window_display": false
  }
 },
 "nbformat": 4,
 "nbformat_minor": 5
}
